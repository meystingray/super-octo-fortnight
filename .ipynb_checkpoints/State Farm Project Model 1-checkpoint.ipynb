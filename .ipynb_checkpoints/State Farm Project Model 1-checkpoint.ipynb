{
 "cells": [
  {
   "cell_type": "markdown",
   "metadata": {},
   "source": [
    "# State Farm Classification Project: Model 1"
   ]
  },
  {
   "cell_type": "code",
   "execution_count": 1,
   "metadata": {},
   "outputs": [],
   "source": [
    "import pandas as pd\n",
    "import numpy as np\n",
    "from sklearn.model_selection import cross_validate, train_test_split, GridSearchCV\n",
    "from sklearn.metrics import accuracy_score, confusion_matrix, classification_report, r2_score\n",
    "%matplotlib inline\n",
    "import matplotlib.pyplot as plt\n",
    "from sklearn import metrics"
   ]
  },
  {
   "cell_type": "code",
   "execution_count": 2,
   "metadata": {},
   "outputs": [],
   "source": [
    "import xgboost as xgb\n",
    "from xgboost.sklearn import XGBClassifier"
   ]
  },
  {
   "cell_type": "code",
   "execution_count": 3,
   "metadata": {},
   "outputs": [],
   "source": [
    "train = pd.read_csv(\"exercise_02_train.csv\")"
   ]
  },
  {
   "cell_type": "code",
   "execution_count": 4,
   "metadata": {},
   "outputs": [
    {
     "data": {
      "text/html": [
       "<div>\n",
       "<style scoped>\n",
       "    .dataframe tbody tr th:only-of-type {\n",
       "        vertical-align: middle;\n",
       "    }\n",
       "\n",
       "    .dataframe tbody tr th {\n",
       "        vertical-align: top;\n",
       "    }\n",
       "\n",
       "    .dataframe thead th {\n",
       "        text-align: right;\n",
       "    }\n",
       "</style>\n",
       "<table border=\"1\" class=\"dataframe\">\n",
       "  <thead>\n",
       "    <tr style=\"text-align: right;\">\n",
       "      <th></th>\n",
       "      <th>x0</th>\n",
       "      <th>x1</th>\n",
       "      <th>x2</th>\n",
       "      <th>x3</th>\n",
       "      <th>x4</th>\n",
       "      <th>x5</th>\n",
       "      <th>x6</th>\n",
       "      <th>x7</th>\n",
       "      <th>x8</th>\n",
       "      <th>x9</th>\n",
       "      <th>...</th>\n",
       "      <th>x91</th>\n",
       "      <th>x92</th>\n",
       "      <th>x93</th>\n",
       "      <th>x94</th>\n",
       "      <th>x95</th>\n",
       "      <th>x96</th>\n",
       "      <th>x97</th>\n",
       "      <th>x98</th>\n",
       "      <th>x99</th>\n",
       "      <th>y</th>\n",
       "    </tr>\n",
       "  </thead>\n",
       "  <tbody>\n",
       "    <tr>\n",
       "      <th>0</th>\n",
       "      <td>0.198560</td>\n",
       "      <td>74.425320</td>\n",
       "      <td>67.627745</td>\n",
       "      <td>-3.095111</td>\n",
       "      <td>-6.822327</td>\n",
       "      <td>19.048071</td>\n",
       "      <td>-0.362378</td>\n",
       "      <td>-10.699174</td>\n",
       "      <td>-22.699791</td>\n",
       "      <td>-1.561262</td>\n",
       "      <td>...</td>\n",
       "      <td>0.800948</td>\n",
       "      <td>1.553846</td>\n",
       "      <td>asia</td>\n",
       "      <td>-1.093926</td>\n",
       "      <td>16.202557</td>\n",
       "      <td>26.238591</td>\n",
       "      <td>-2.125570</td>\n",
       "      <td>9.644466</td>\n",
       "      <td>1.237667</td>\n",
       "      <td>0</td>\n",
       "    </tr>\n",
       "    <tr>\n",
       "      <th>1</th>\n",
       "      <td>-29.662621</td>\n",
       "      <td>24.320711</td>\n",
       "      <td>-48.205182</td>\n",
       "      <td>1.430339</td>\n",
       "      <td>-6.552206</td>\n",
       "      <td>4.263074</td>\n",
       "      <td>6.551412</td>\n",
       "      <td>4.265483</td>\n",
       "      <td>1.245095</td>\n",
       "      <td>2.246814</td>\n",
       "      <td>...</td>\n",
       "      <td>2.031707</td>\n",
       "      <td>7.544422</td>\n",
       "      <td>asia</td>\n",
       "      <td>-3.659541</td>\n",
       "      <td>29.674259</td>\n",
       "      <td>-15.141647</td>\n",
       "      <td>-36.030599</td>\n",
       "      <td>5.820376</td>\n",
       "      <td>1.952183</td>\n",
       "      <td>1</td>\n",
       "    </tr>\n",
       "    <tr>\n",
       "      <th>2</th>\n",
       "      <td>15.493759</td>\n",
       "      <td>-66.160459</td>\n",
       "      <td>50.512903</td>\n",
       "      <td>-2.265792</td>\n",
       "      <td>14.428578</td>\n",
       "      <td>2.509323</td>\n",
       "      <td>-6.707536</td>\n",
       "      <td>3.820842</td>\n",
       "      <td>-11.100833</td>\n",
       "      <td>-1.459825</td>\n",
       "      <td>...</td>\n",
       "      <td>-0.992474</td>\n",
       "      <td>1.385799</td>\n",
       "      <td>america</td>\n",
       "      <td>1.299144</td>\n",
       "      <td>33.018090</td>\n",
       "      <td>-19.914894</td>\n",
       "      <td>26.212736</td>\n",
       "      <td>2.372690</td>\n",
       "      <td>0.558988</td>\n",
       "      <td>1</td>\n",
       "    </tr>\n",
       "    <tr>\n",
       "      <th>3</th>\n",
       "      <td>-19.837651</td>\n",
       "      <td>33.210943</td>\n",
       "      <td>53.405563</td>\n",
       "      <td>1.079462</td>\n",
       "      <td>11.364251</td>\n",
       "      <td>-1.064581</td>\n",
       "      <td>9.308857</td>\n",
       "      <td>9.266076</td>\n",
       "      <td>14.552959</td>\n",
       "      <td>-2.012755</td>\n",
       "      <td>...</td>\n",
       "      <td>-1.157845</td>\n",
       "      <td>6.036804</td>\n",
       "      <td>asia</td>\n",
       "      <td>0.521396</td>\n",
       "      <td>9.664095</td>\n",
       "      <td>-27.197636</td>\n",
       "      <td>19.221130</td>\n",
       "      <td>13.382712</td>\n",
       "      <td>0.214462</td>\n",
       "      <td>0</td>\n",
       "    </tr>\n",
       "    <tr>\n",
       "      <th>4</th>\n",
       "      <td>11.896655</td>\n",
       "      <td>-26.717872</td>\n",
       "      <td>-17.758176</td>\n",
       "      <td>1.692017</td>\n",
       "      <td>21.553537</td>\n",
       "      <td>-5.852097</td>\n",
       "      <td>-0.857435</td>\n",
       "      <td>-2.186940</td>\n",
       "      <td>18.075272</td>\n",
       "      <td>-1.404618</td>\n",
       "      <td>...</td>\n",
       "      <td>-3.045511</td>\n",
       "      <td>-1.719337</td>\n",
       "      <td>asia</td>\n",
       "      <td>1.526071</td>\n",
       "      <td>-25.608326</td>\n",
       "      <td>33.383803</td>\n",
       "      <td>-5.703269</td>\n",
       "      <td>-11.023730</td>\n",
       "      <td>-1.191319</td>\n",
       "      <td>0</td>\n",
       "    </tr>\n",
       "  </tbody>\n",
       "</table>\n",
       "<p>5 rows × 101 columns</p>\n",
       "</div>"
      ],
      "text/plain": [
       "          x0         x1         x2        x3         x4         x5        x6  \\\n",
       "0   0.198560  74.425320  67.627745 -3.095111  -6.822327  19.048071 -0.362378   \n",
       "1 -29.662621  24.320711 -48.205182  1.430339  -6.552206   4.263074  6.551412   \n",
       "2  15.493759 -66.160459  50.512903 -2.265792  14.428578   2.509323 -6.707536   \n",
       "3 -19.837651  33.210943  53.405563  1.079462  11.364251  -1.064581  9.308857   \n",
       "4  11.896655 -26.717872 -17.758176  1.692017  21.553537  -5.852097 -0.857435   \n",
       "\n",
       "          x7         x8        x9 ...       x91       x92      x93       x94  \\\n",
       "0 -10.699174 -22.699791 -1.561262 ...  0.800948  1.553846     asia -1.093926   \n",
       "1   4.265483   1.245095  2.246814 ...  2.031707  7.544422     asia -3.659541   \n",
       "2   3.820842 -11.100833 -1.459825 ... -0.992474  1.385799  america  1.299144   \n",
       "3   9.266076  14.552959 -2.012755 ... -1.157845  6.036804     asia  0.521396   \n",
       "4  -2.186940  18.075272 -1.404618 ... -3.045511 -1.719337     asia  1.526071   \n",
       "\n",
       "         x95        x96        x97        x98       x99  y  \n",
       "0  16.202557  26.238591  -2.125570   9.644466  1.237667  0  \n",
       "1  29.674259 -15.141647 -36.030599   5.820376  1.952183  1  \n",
       "2  33.018090 -19.914894  26.212736   2.372690  0.558988  1  \n",
       "3   9.664095 -27.197636  19.221130  13.382712  0.214462  0  \n",
       "4 -25.608326  33.383803  -5.703269 -11.023730 -1.191319  0  \n",
       "\n",
       "[5 rows x 101 columns]"
      ]
     },
     "execution_count": 4,
     "metadata": {},
     "output_type": "execute_result"
    }
   ],
   "source": [
    "train.head()"
   ]
  },
  {
   "cell_type": "code",
   "execution_count": 5,
   "metadata": {},
   "outputs": [
    {
     "name": "stdout",
     "output_type": "stream",
     "text": [
      "float64\n",
      "int64\n",
      "object\n"
     ]
    }
   ],
   "source": [
    "def unique(list1,getList = False): \n",
    "      \n",
    "    # insert the list to the set \n",
    "    list_set = set(list1) \n",
    "    # convert the set to the list \n",
    "    unique_list = (list(list_set)) \n",
    "    for x in unique_list: \n",
    "        print(x)\n",
    "    if getList == True:\n",
    "        return unique_list\n",
    "\n",
    "unique(train.dtypes)"
   ]
  },
  {
   "cell_type": "code",
   "execution_count": 6,
   "metadata": {},
   "outputs": [],
   "source": [
    "predictCols = list(train)\n",
    "predictCols.remove('y')"
   ]
  },
  {
   "cell_type": "code",
   "execution_count": 7,
   "metadata": {},
   "outputs": [],
   "source": [
    "for col in predictCols:\n",
    "    if train[col].dtype in [np.float64,np.int64]:\n",
    "        #print(col)\n",
    "        train[col].fillna(train[col].mean(skipna = True), inplace=True)"
   ]
  },
  {
   "cell_type": "code",
   "execution_count": 8,
   "metadata": {},
   "outputs": [
    {
     "data": {
      "text/plain": [
       "0"
      ]
     },
     "execution_count": 8,
     "metadata": {},
     "output_type": "execute_result"
    }
   ],
   "source": [
    "# Ensure no remaining na's\n",
    "numericCols = train.select_dtypes(include='number').columns\n",
    "naVals = train[numericCols].isna().sum().sort_values()\n",
    "naVals.sum()"
   ]
  },
  {
   "cell_type": "code",
   "execution_count": 9,
   "metadata": {},
   "outputs": [
    {
     "name": "stdout",
     "output_type": "stream",
     "text": [
      "Index(['x34', 'x35', 'x41', 'x45', 'x68', 'x93'], dtype='object')\n"
     ]
    }
   ],
   "source": [
    "objectCols = train.select_dtypes(include='object').columns\n",
    "print(objectCols)"
   ]
  },
  {
   "cell_type": "code",
   "execution_count": 10,
   "metadata": {
    "scrolled": true
   },
   "outputs": [
    {
     "name": "stdout",
     "output_type": "stream",
     "text": [
      "Toyota\n",
      "bmw\n",
      "volkswagon\n",
      "tesla\n",
      "ford\n",
      "Honda\n",
      "chrystler\n",
      "mercades\n",
      "chevrolet\n",
      "nissan\n"
     ]
    }
   ],
   "source": [
    "train.x34.fillna(train.x34.mode()[0], inplace=True)\n",
    "uniqueX34_train = unique(train['x34'],True)"
   ]
  },
  {
   "cell_type": "code",
   "execution_count": 11,
   "metadata": {},
   "outputs": [
    {
     "name": "stdout",
     "output_type": "stream",
     "text": [
      "thursday\n",
      "tuesday\n",
      "monday\n",
      "friday\n",
      "wednesday\n"
     ]
    }
   ],
   "source": [
    "train.x35.replace(['thurday', 'thur'], ['thursday','thursday'], inplace=True)\n",
    "train.x35.replace(['wed'], ['wednesday'], inplace=True)\n",
    "train.x35.replace(['fri'], ['friday'], inplace=True)\n",
    "train.x35.fillna(train.x35.mode()[0], inplace=True)\n",
    "unique(train['x35'])"
   ]
  },
  {
   "cell_type": "code",
   "execution_count": 12,
   "metadata": {},
   "outputs": [
    {
     "name": "stdout",
     "output_type": "stream",
     "text": [
      "0\n"
     ]
    }
   ],
   "source": [
    "# Convert currency column to float, remove nan's\n",
    "train['x41'] = train['x41'].astype(str)\n",
    "train['x41'] = train['x41'].map(lambda x: x.lstrip('$'))\n",
    "train['x41'] = train['x41'].astype(np.float16)\n",
    "train['x41'].fillna(0, inplace=True) # probably safer to replace nan's with 0, not mean\n",
    "\n",
    "print(train['x41'].isna().sum())"
   ]
  },
  {
   "cell_type": "code",
   "execution_count": 13,
   "metadata": {},
   "outputs": [
    {
     "name": "stdout",
     "output_type": "stream",
     "text": [
      "0\n"
     ]
    }
   ],
   "source": [
    "# Convert percentage column to float, remove nan's\n",
    "train['x45'] = train['x45'].astype(str)\n",
    "train['x45'] = train['x45'].map(lambda x: x.rstrip('%'))\n",
    "train['x45'] = train['x45'].astype(np.float16)\n",
    "train['x45'].fillna(train['x45'].mean(skipna = True), inplace=True) # since very few unique values, ok to replace with mean\n",
    "\n",
    "print(train['x41'].isna().sum())"
   ]
  },
  {
   "cell_type": "code",
   "execution_count": 14,
   "metadata": {},
   "outputs": [
    {
     "name": "stdout",
     "output_type": "stream",
     "text": [
      "Jun\n",
      "May\n",
      "Feb\n",
      "Aug\n",
      "Oct\n",
      "Mar\n",
      "Jan\n",
      "Nov\n",
      "Apr\n",
      "Sep\n",
      "Dec\n",
      "Jul\n"
     ]
    }
   ],
   "source": [
    "# Month Column\n",
    "train.x68.replace(['Dev'], ['Dec'], inplace=True) # because I'm OCD\n",
    "train.x68.replace(['sept.'], ['Sep'], inplace=True)\n",
    "train.x68.replace(['January'], ['Jan'], inplace=True)\n",
    "train.x68.replace(['July'], ['Jul'], inplace=True)\n",
    "train.x68.fillna(train.x68.mode()[0], inplace=True)\n",
    "\n",
    "unique(train['x68'])"
   ]
  },
  {
   "cell_type": "code",
   "execution_count": 15,
   "metadata": {},
   "outputs": [
    {
     "name": "stdout",
     "output_type": "stream",
     "text": [
      "0\n"
     ]
    }
   ],
   "source": [
    "# Region\n",
    "train.x93.replace(['euorpe'], ['europe'], inplace=True)\n",
    "train = train[pd.isna(train['x93']) == False]\n",
    "print(train['x93'].isna().sum())\n",
    "# Region seems significant, and there's only 7 NA's, so remove rows with this as NA"
   ]
  },
  {
   "cell_type": "code",
   "execution_count": 16,
   "metadata": {},
   "outputs": [
    {
     "name": "stdout",
     "output_type": "stream",
     "text": [
      "0\n"
     ]
    }
   ],
   "source": [
    "# Check if target has na's\n",
    "print(train['y'].isna().sum())"
   ]
  },
  {
   "cell_type": "code",
   "execution_count": 17,
   "metadata": {},
   "outputs": [],
   "source": [
    "train = pd.get_dummies(train)"
   ]
  },
  {
   "cell_type": "code",
   "execution_count": 18,
   "metadata": {},
   "outputs": [
    {
     "data": {
      "text/plain": [
       "Index([], dtype='object')"
      ]
     },
     "execution_count": 18,
     "metadata": {},
     "output_type": "execute_result"
    }
   ],
   "source": [
    "# Ensure we converted all non-numeric columns to numeric\n",
    "train.select_dtypes(include='object').columns"
   ]
  },
  {
   "cell_type": "code",
   "execution_count": 19,
   "metadata": {},
   "outputs": [
    {
     "data": {
      "text/html": [
       "<div>\n",
       "<style scoped>\n",
       "    .dataframe tbody tr th:only-of-type {\n",
       "        vertical-align: middle;\n",
       "    }\n",
       "\n",
       "    .dataframe tbody tr th {\n",
       "        vertical-align: top;\n",
       "    }\n",
       "\n",
       "    .dataframe thead th {\n",
       "        text-align: right;\n",
       "    }\n",
       "</style>\n",
       "<table border=\"1\" class=\"dataframe\">\n",
       "  <thead>\n",
       "    <tr style=\"text-align: right;\">\n",
       "      <th></th>\n",
       "      <th>x0</th>\n",
       "      <th>x1</th>\n",
       "      <th>x2</th>\n",
       "      <th>x3</th>\n",
       "      <th>x4</th>\n",
       "      <th>x5</th>\n",
       "      <th>x6</th>\n",
       "      <th>x7</th>\n",
       "      <th>x8</th>\n",
       "      <th>x9</th>\n",
       "      <th>...</th>\n",
       "      <th>x68_Jul</th>\n",
       "      <th>x68_Jun</th>\n",
       "      <th>x68_Mar</th>\n",
       "      <th>x68_May</th>\n",
       "      <th>x68_Nov</th>\n",
       "      <th>x68_Oct</th>\n",
       "      <th>x68_Sep</th>\n",
       "      <th>x93_america</th>\n",
       "      <th>x93_asia</th>\n",
       "      <th>x93_europe</th>\n",
       "    </tr>\n",
       "  </thead>\n",
       "  <tbody>\n",
       "    <tr>\n",
       "      <th>count</th>\n",
       "      <td>39993.000000</td>\n",
       "      <td>39993.000000</td>\n",
       "      <td>39993.000000</td>\n",
       "      <td>39993.000000</td>\n",
       "      <td>39993.000000</td>\n",
       "      <td>39993.000000</td>\n",
       "      <td>39993.000000</td>\n",
       "      <td>39993.000000</td>\n",
       "      <td>39993.000000</td>\n",
       "      <td>39993.000000</td>\n",
       "      <td>...</td>\n",
       "      <td>39993.000000</td>\n",
       "      <td>39993.000000</td>\n",
       "      <td>39993.000000</td>\n",
       "      <td>39993.000000</td>\n",
       "      <td>39993.000000</td>\n",
       "      <td>39993.000000</td>\n",
       "      <td>39993.000000</td>\n",
       "      <td>39993.000000</td>\n",
       "      <td>39993.000000</td>\n",
       "      <td>39993.000000</td>\n",
       "    </tr>\n",
       "    <tr>\n",
       "      <th>mean</th>\n",
       "      <td>3.447752</td>\n",
       "      <td>-7.788416</td>\n",
       "      <td>1.704644</td>\n",
       "      <td>-0.072832</td>\n",
       "      <td>0.121980</td>\n",
       "      <td>-0.607009</td>\n",
       "      <td>0.035852</td>\n",
       "      <td>-0.052430</td>\n",
       "      <td>-2.911144</td>\n",
       "      <td>-0.024524</td>\n",
       "      <td>...</td>\n",
       "      <td>0.277199</td>\n",
       "      <td>0.231516</td>\n",
       "      <td>0.010777</td>\n",
       "      <td>0.119221</td>\n",
       "      <td>0.003776</td>\n",
       "      <td>0.022604</td>\n",
       "      <td>0.087140</td>\n",
       "      <td>0.078289</td>\n",
       "      <td>0.885555</td>\n",
       "      <td>0.036156</td>\n",
       "    </tr>\n",
       "    <tr>\n",
       "      <th>std</th>\n",
       "      <td>16.245334</td>\n",
       "      <td>37.012224</td>\n",
       "      <td>38.382930</td>\n",
       "      <td>1.503022</td>\n",
       "      <td>16.289301</td>\n",
       "      <td>15.583132</td>\n",
       "      <td>9.040667</td>\n",
       "      <td>6.952184</td>\n",
       "      <td>13.148182</td>\n",
       "      <td>2.939696</td>\n",
       "      <td>...</td>\n",
       "      <td>0.447621</td>\n",
       "      <td>0.421806</td>\n",
       "      <td>0.103252</td>\n",
       "      <td>0.324052</td>\n",
       "      <td>0.061331</td>\n",
       "      <td>0.148639</td>\n",
       "      <td>0.282044</td>\n",
       "      <td>0.268629</td>\n",
       "      <td>0.318355</td>\n",
       "      <td>0.186681</td>\n",
       "    </tr>\n",
       "    <tr>\n",
       "      <th>min</th>\n",
       "      <td>-60.113902</td>\n",
       "      <td>-157.341119</td>\n",
       "      <td>-163.339956</td>\n",
       "      <td>-6.276969</td>\n",
       "      <td>-61.632319</td>\n",
       "      <td>-62.808995</td>\n",
       "      <td>-35.060656</td>\n",
       "      <td>-26.736717</td>\n",
       "      <td>-53.735586</td>\n",
       "      <td>-11.497395</td>\n",
       "      <td>...</td>\n",
       "      <td>0.000000</td>\n",
       "      <td>0.000000</td>\n",
       "      <td>0.000000</td>\n",
       "      <td>0.000000</td>\n",
       "      <td>0.000000</td>\n",
       "      <td>0.000000</td>\n",
       "      <td>0.000000</td>\n",
       "      <td>0.000000</td>\n",
       "      <td>0.000000</td>\n",
       "      <td>0.000000</td>\n",
       "    </tr>\n",
       "    <tr>\n",
       "      <th>25%</th>\n",
       "      <td>-7.595295</td>\n",
       "      <td>-32.731869</td>\n",
       "      <td>-24.141082</td>\n",
       "      <td>-1.087780</td>\n",
       "      <td>-10.896141</td>\n",
       "      <td>-11.181510</td>\n",
       "      <td>-6.089227</td>\n",
       "      <td>-4.746572</td>\n",
       "      <td>-11.722590</td>\n",
       "      <td>-2.003827</td>\n",
       "      <td>...</td>\n",
       "      <td>0.000000</td>\n",
       "      <td>0.000000</td>\n",
       "      <td>0.000000</td>\n",
       "      <td>0.000000</td>\n",
       "      <td>0.000000</td>\n",
       "      <td>0.000000</td>\n",
       "      <td>0.000000</td>\n",
       "      <td>0.000000</td>\n",
       "      <td>1.000000</td>\n",
       "      <td>0.000000</td>\n",
       "    </tr>\n",
       "    <tr>\n",
       "      <th>50%</th>\n",
       "      <td>3.446322</td>\n",
       "      <td>-7.987507</td>\n",
       "      <td>1.959477</td>\n",
       "      <td>-0.062721</td>\n",
       "      <td>0.105307</td>\n",
       "      <td>-0.576660</td>\n",
       "      <td>0.044975</td>\n",
       "      <td>-0.037833</td>\n",
       "      <td>-2.940961</td>\n",
       "      <td>-0.054184</td>\n",
       "      <td>...</td>\n",
       "      <td>0.000000</td>\n",
       "      <td>0.000000</td>\n",
       "      <td>0.000000</td>\n",
       "      <td>0.000000</td>\n",
       "      <td>0.000000</td>\n",
       "      <td>0.000000</td>\n",
       "      <td>0.000000</td>\n",
       "      <td>0.000000</td>\n",
       "      <td>1.000000</td>\n",
       "      <td>0.000000</td>\n",
       "    </tr>\n",
       "    <tr>\n",
       "      <th>75%</th>\n",
       "      <td>14.266326</td>\n",
       "      <td>16.848201</td>\n",
       "      <td>27.511371</td>\n",
       "      <td>0.940330</td>\n",
       "      <td>11.076726</td>\n",
       "      <td>9.954957</td>\n",
       "      <td>6.100325</td>\n",
       "      <td>4.636585</td>\n",
       "      <td>5.857648</td>\n",
       "      <td>1.954809</td>\n",
       "      <td>...</td>\n",
       "      <td>1.000000</td>\n",
       "      <td>0.000000</td>\n",
       "      <td>0.000000</td>\n",
       "      <td>0.000000</td>\n",
       "      <td>0.000000</td>\n",
       "      <td>0.000000</td>\n",
       "      <td>0.000000</td>\n",
       "      <td>0.000000</td>\n",
       "      <td>1.000000</td>\n",
       "      <td>0.000000</td>\n",
       "    </tr>\n",
       "    <tr>\n",
       "      <th>max</th>\n",
       "      <td>75.311659</td>\n",
       "      <td>153.469221</td>\n",
       "      <td>154.051060</td>\n",
       "      <td>5.837559</td>\n",
       "      <td>65.949709</td>\n",
       "      <td>63.424046</td>\n",
       "      <td>45.053946</td>\n",
       "      <td>34.267792</td>\n",
       "      <td>66.936936</td>\n",
       "      <td>11.271939</td>\n",
       "      <td>...</td>\n",
       "      <td>1.000000</td>\n",
       "      <td>1.000000</td>\n",
       "      <td>1.000000</td>\n",
       "      <td>1.000000</td>\n",
       "      <td>1.000000</td>\n",
       "      <td>1.000000</td>\n",
       "      <td>1.000000</td>\n",
       "      <td>1.000000</td>\n",
       "      <td>1.000000</td>\n",
       "      <td>1.000000</td>\n",
       "    </tr>\n",
       "  </tbody>\n",
       "</table>\n",
       "<p>8 rows × 127 columns</p>\n",
       "</div>"
      ],
      "text/plain": [
       "                 x0            x1            x2            x3            x4  \\\n",
       "count  39993.000000  39993.000000  39993.000000  39993.000000  39993.000000   \n",
       "mean       3.447752     -7.788416      1.704644     -0.072832      0.121980   \n",
       "std       16.245334     37.012224     38.382930      1.503022     16.289301   \n",
       "min      -60.113902   -157.341119   -163.339956     -6.276969    -61.632319   \n",
       "25%       -7.595295    -32.731869    -24.141082     -1.087780    -10.896141   \n",
       "50%        3.446322     -7.987507      1.959477     -0.062721      0.105307   \n",
       "75%       14.266326     16.848201     27.511371      0.940330     11.076726   \n",
       "max       75.311659    153.469221    154.051060      5.837559     65.949709   \n",
       "\n",
       "                 x5            x6            x7            x8            x9  \\\n",
       "count  39993.000000  39993.000000  39993.000000  39993.000000  39993.000000   \n",
       "mean      -0.607009      0.035852     -0.052430     -2.911144     -0.024524   \n",
       "std       15.583132      9.040667      6.952184     13.148182      2.939696   \n",
       "min      -62.808995    -35.060656    -26.736717    -53.735586    -11.497395   \n",
       "25%      -11.181510     -6.089227     -4.746572    -11.722590     -2.003827   \n",
       "50%       -0.576660      0.044975     -0.037833     -2.940961     -0.054184   \n",
       "75%        9.954957      6.100325      4.636585      5.857648      1.954809   \n",
       "max       63.424046     45.053946     34.267792     66.936936     11.271939   \n",
       "\n",
       "           ...            x68_Jul       x68_Jun       x68_Mar       x68_May  \\\n",
       "count      ...       39993.000000  39993.000000  39993.000000  39993.000000   \n",
       "mean       ...           0.277199      0.231516      0.010777      0.119221   \n",
       "std        ...           0.447621      0.421806      0.103252      0.324052   \n",
       "min        ...           0.000000      0.000000      0.000000      0.000000   \n",
       "25%        ...           0.000000      0.000000      0.000000      0.000000   \n",
       "50%        ...           0.000000      0.000000      0.000000      0.000000   \n",
       "75%        ...           1.000000      0.000000      0.000000      0.000000   \n",
       "max        ...           1.000000      1.000000      1.000000      1.000000   \n",
       "\n",
       "            x68_Nov       x68_Oct       x68_Sep   x93_america      x93_asia  \\\n",
       "count  39993.000000  39993.000000  39993.000000  39993.000000  39993.000000   \n",
       "mean       0.003776      0.022604      0.087140      0.078289      0.885555   \n",
       "std        0.061331      0.148639      0.282044      0.268629      0.318355   \n",
       "min        0.000000      0.000000      0.000000      0.000000      0.000000   \n",
       "25%        0.000000      0.000000      0.000000      0.000000      1.000000   \n",
       "50%        0.000000      0.000000      0.000000      0.000000      1.000000   \n",
       "75%        0.000000      0.000000      0.000000      0.000000      1.000000   \n",
       "max        1.000000      1.000000      1.000000      1.000000      1.000000   \n",
       "\n",
       "         x93_europe  \n",
       "count  39993.000000  \n",
       "mean       0.036156  \n",
       "std        0.186681  \n",
       "min        0.000000  \n",
       "25%        0.000000  \n",
       "50%        0.000000  \n",
       "75%        0.000000  \n",
       "max        1.000000  \n",
       "\n",
       "[8 rows x 127 columns]"
      ]
     },
     "execution_count": 19,
     "metadata": {},
     "output_type": "execute_result"
    }
   ],
   "source": [
    "train.describe()"
   ]
  },
  {
   "cell_type": "markdown",
   "metadata": {},
   "source": [
    "## Now check class imbalance"
   ]
  },
  {
   "cell_type": "code",
   "execution_count": 20,
   "metadata": {},
   "outputs": [
    {
     "name": "stdout",
     "output_type": "stream",
     "text": [
      "0    31851\n",
      "1     8142\n",
      "Name: y, dtype: int64\n",
      "% oF Training Set with Positives: 20%\n",
      "% oF Training Set with Negatives: 80%\n"
     ]
    }
   ],
   "source": [
    "x = train.y.value_counts()\n",
    "print(x)\n",
    "\n",
    "print(\"% oF Training Set with Positives: \" + \"{0:.0%}\".format(x[1] / (x[0] + x[1])))\n",
    "print(\"% oF Training Set with Negatives: \" + \"{0:.0%}\".format(x[0] / (x[0] + x[1])))\n"
   ]
  },
  {
   "cell_type": "markdown",
   "metadata": {},
   "source": [
    "### This class imbalance is not too bad, so we don't need to do resampling..."
   ]
  },
  {
   "cell_type": "code",
   "execution_count": null,
   "metadata": {},
   "outputs": [],
   "source": []
  },
  {
   "cell_type": "markdown",
   "metadata": {},
   "source": [
    "## Now check correlation"
   ]
  },
  {
   "cell_type": "code",
   "execution_count": 21,
   "metadata": {},
   "outputs": [
    {
     "data": {
      "text/plain": [
       "<matplotlib.axes._subplots.AxesSubplot at 0x24fec000b38>"
      ]
     },
     "execution_count": 21,
     "metadata": {},
     "output_type": "execute_result"
    },
    {
     "data": {
      "image/png": "[encoded data removed]",
      "text/plain": [
       "<Figure size 432x288 with 2 Axes>"
      ]
     },
     "metadata": {
      "needs_background": "light"
     },
     "output_type": "display_data"
    }
   ],
   "source": [
    "import seaborn as sns\n",
    "%matplotlib inline\n",
    "\n",
    "# calculate the correlation matrix\n",
    "corr = train[numericCols].corr()\n",
    "\n",
    "# plot the heatmap\n",
    "sns.heatmap(corr, \n",
    "        xticklabels=corr.columns,\n",
    "        yticklabels=corr.columns)"
   ]
  },
  {
   "cell_type": "code",
   "execution_count": 22,
   "metadata": {},
   "outputs": [],
   "source": [
    "# Attempt to find columns with high-correlation, and remove if necessary\n",
    "for col in numericCols:\n",
    "    #print(\"\\n\\n\" + col)\n",
    "    q = corr[col].sort_values(ascending = False)\n",
    "    q = q.drop(col)\n",
    "    q = q[abs(q) >= 0.5]\n",
    "    perfectNames = q.index.values\n",
    "    if len(q) > 0:\n",
    "        print(col)"
   ]
  },
  {
   "cell_type": "markdown",
   "metadata": {},
   "source": [
    "## Clearly, no columns in the data set are highly correlated, so no need to remove."
   ]
  },
  {
   "cell_type": "markdown",
   "metadata": {},
   "source": [
    "# Now can send to XGBoost"
   ]
  },
  {
   "cell_type": "code",
   "execution_count": 23,
   "metadata": {},
   "outputs": [],
   "source": [
    "# Train test split\n",
    "y = train.y\n",
    "train = train.drop(['y'], axis=1)"
   ]
  },
  {
   "cell_type": "code",
   "execution_count": 24,
   "metadata": {},
   "outputs": [],
   "source": [
    "X_train, X_test, y_train, y_test = train_test_split(train, y, test_size=.2, random_state=0)"
   ]
  },
  {
   "cell_type": "code",
   "execution_count": 25,
   "metadata": {},
   "outputs": [],
   "source": [
    "dtrain = xgb.DMatrix(X_train)\n",
    "dtest = xgb.DMatrix(X_test)"
   ]
  },
  {
   "cell_type": "code",
   "execution_count": 26,
   "metadata": {
    "scrolled": true
   },
   "outputs": [
    {
     "data": {
      "text/plain": [
       "XGBClassifier(base_score=0.5, booster='gbtree', colsample_bylevel=1,\n",
       "       colsample_bynode=1, colsample_bytree=1, gamma=0, learning_rate=0.1,\n",
       "       max_delta_step=0, max_depth=5, min_child_weight=1, missing=None,\n",
       "       n_estimators=500, n_jobs=12, nthread=None,\n",
       "       objective='binary:logistic', random_state=0, reg_alpha=0,\n",
       "       reg_lambda=1, scale_pos_weight=1, seed=1, silent=None, subsample=1,\n",
       "       verbosity=1)"
      ]
     },
     "execution_count": 26,
     "metadata": {},
     "output_type": "execute_result"
    }
   ],
   "source": [
    "# First XGboost attempt, leaving most parameters as default\n",
    "model = xgb.XGBClassifier(booster='gbtree',objective ='binary:logistic',max_depth = 5,\n",
    "                          min_child_weight = 1,n_estimators = 500,seed = 1,n_jobs = 12)\n",
    "\n",
    "model.fit(X_train,y_train)"
   ]
  },
  {
   "cell_type": "code",
   "execution_count": 27,
   "metadata": {},
   "outputs": [],
   "source": [
    "pred_train = model.predict(X_train)\n",
    "pred_test = model.predict(X_test)"
   ]
  },
  {
   "cell_type": "code",
   "execution_count": 28,
   "metadata": {},
   "outputs": [
    {
     "name": "stdout",
     "output_type": "stream",
     "text": [
      "Test Accuracy: 97.01%\n"
     ]
    }
   ],
   "source": [
    "# evaluate predictions\n",
    "test_accuracy = accuracy_score(y_test, pred_test)\n",
    "print(\"Test Accuracy: %.2f%%\" % (test_accuracy * 100.0))"
   ]
  },
  {
   "cell_type": "code",
   "execution_count": 29,
   "metadata": {},
   "outputs": [
    {
     "data": {
      "text/plain": [
       "<matplotlib.axes._subplots.AxesSubplot at 0x24febe589b0>"
      ]
     },
     "execution_count": 29,
     "metadata": {},
     "output_type": "execute_result"
    },
    {
     "data": {
      "image/png": "[encoded data removed]",
      "text/plain": [
       "<Figure size 432x288 with 2 Axes>"
      ]
     },
     "metadata": {},
     "output_type": "display_data"
    }
   ],
   "source": [
    "cm = confusion_matrix(y_test, pred_test)\n",
    "\n",
    "sns.set(font_scale=1.4)#for label size\n",
    "sns.heatmap(cm, annot=True,fmt='g',annot_kws={\"size\": 16})# font size"
   ]
  },
  {
   "cell_type": "markdown",
   "metadata": {},
   "source": [
    "### Many more false negatives than false postives...probably due to the class imbalance 0's to 1's in the training set heavily weighted toward 0's (80%)"
   ]
  },
  {
   "cell_type": "code",
   "execution_count": null,
   "metadata": {},
   "outputs": [],
   "source": []
  },
  {
   "cell_type": "code",
   "execution_count": 46,
   "metadata": {},
   "outputs": [
    {
     "data": {
      "text/plain": [
       "GridSearchCV(cv=5, error_score='raise-deprecating',\n",
       "       estimator=XGBClassifier(base_score=0.5, booster='gbtree', colsample_bylevel=1,\n",
       "       colsample_bynode=1, colsample_bytree=1, gamma=0, learning_rate=0.1,\n",
       "       max_delta_step=0, max_depth=10, min_child_weight=1, missing=None,\n",
       "       n_estimators=500, n_jobs=4, nthread=None,\n",
       "       objective='binary:logistic', random_state=0, reg_alpha=0,\n",
       "       reg_lambda=1, scale_pos_weight=1, seed=1, silent=None, subsample=1,\n",
       "       verbosity=1),\n",
       "       fit_params=None, iid=False, n_jobs=4,\n",
       "       param_grid={'max_depth': range(5, 12), 'min_child_weight': range(1, 6)},\n",
       "       pre_dispatch='2*n_jobs', refit=True, return_train_score='warn',\n",
       "       scoring='roc_auc', verbose=0)"
      ]
     },
     "execution_count": 46,
     "metadata": {},
     "output_type": "execute_result"
    }
   ],
   "source": [
    "# Tune max_depth and min_child_weight, since these have the highest impact on the model performance\n",
    "param_test1 = {\n",
    " 'max_depth':range(5,12,1),\n",
    " 'min_child_weight':range(1,6,1)\n",
    "}\n",
    "gsearch1 = GridSearchCV(estimator = XGBClassifier(booster='gbtree',objective ='binary:logistic',max_depth = 10,\n",
    "                          n_estimators = 500,seed = 1,n_jobs = 12), \n",
    " param_grid = param_test1, scoring='roc_auc',n_jobs=4,iid=False, cv=5)\n",
    "gsearch1.fit(X_train,y_train)"
   ]
  },
  {
   "cell_type": "code",
   "execution_count": 47,
   "metadata": {},
   "outputs": [
    {
     "data": {
      "text/plain": [
       "({'max_depth': 8, 'min_child_weight': 4}, 0.9892715407729563)"
      ]
     },
     "execution_count": 47,
     "metadata": {},
     "output_type": "execute_result"
    }
   ],
   "source": [
    "gsearch1.best_params_, gsearch1.best_score_"
   ]
  },
  {
   "cell_type": "code",
   "execution_count": 44,
   "metadata": {},
   "outputs": [
    {
     "data": {
      "text/plain": [
       "GridSearchCV(cv=5, error_score='raise-deprecating',\n",
       "       estimator=XGBClassifier(base_score=0.5, booster='gbtree', colsample_bylevel=1,\n",
       "       colsample_bynode=1, colsample_bytree=1, gamma=0, learning_rate=0.1,\n",
       "       max_delta_step=0, max_depth=7, min_child_weight=1, missing=None,\n",
       "       n_estimators=500, n_jobs=4, nthread=None,\n",
       "       objective='binary:logistic', random_state=0, reg_alpha=0,\n",
       "       reg_lambda=1, scale_pos_weight=1, seed=1, silent=None, subsample=1,\n",
       "       verbosity=1),\n",
       "       fit_params=None, iid=False, n_jobs=4,\n",
       "       param_grid={'n_estimators': range(100, 600, 100), 'learning_rate': [0.07, 0.08, 0.09, 0.1, 0.11, 0.12, 0.13]},\n",
       "       pre_dispatch='2*n_jobs', refit=True, return_train_score='warn',\n",
       "       scoring='roc_auc', verbose=0)"
      ]
     },
     "execution_count": 44,
     "metadata": {},
     "output_type": "execute_result"
    }
   ],
   "source": [
    "# Tune max_depth and min_child_weight, since these have the highest impact on the model performance\n",
    "param_test2 = {\n",
    " 'n_estimators':range(100,600,100),\n",
    " 'learning_rate':[0.07,0.08,0.09,0.1,0.11,0.12,0.13]\n",
    "}\n",
    "\n",
    "gsearch2 = GridSearchCV(estimator = XGBClassifier(booster='gbtree',objective ='binary:logistic',max_depth = 7,\n",
    "                          min_child_weight = 1,n_estimators = 500,seed = 1,n_jobs = 4), \n",
    " param_grid = param_test2, scoring='roc_auc',n_jobs=4,iid=False, cv=5)\n",
    "\n",
    "gsearch2.fit(X_train,y_train)"
   ]
  },
  {
   "cell_type": "code",
   "execution_count": 45,
   "metadata": {},
   "outputs": [
    {
     "data": {
      "text/plain": [
       "({'learning_rate': 0.1, 'n_estimators': 500}, 0.9892144265557844)"
      ]
     },
     "execution_count": 45,
     "metadata": {},
     "output_type": "execute_result"
    }
   ],
   "source": [
    "gsearch2.best_params_, gsearch2.best_score_"
   ]
  },
  {
   "cell_type": "markdown",
   "metadata": {},
   "source": [
    "## Now attempt to understand feature importance"
   ]
  },
  {
   "cell_type": "code",
   "execution_count": 30,
   "metadata": {},
   "outputs": [
    {
     "data": {
      "image/png": "[encoded data removed]",
      "text/plain": [
       "<Figure size 432x288 with 1 Axes>"
      ]
     },
     "metadata": {},
     "output_type": "display_data"
    }
   ],
   "source": [
    "xgb.plot_importance(model)\n",
    "plt.rcParams['figure.figsize'] = [5, 5]\n",
    "plt.show()"
   ]
  },
  {
   "cell_type": "code",
   "execution_count": 31,
   "metadata": {},
   "outputs": [],
   "source": [
    "columns = model.get_booster().get_score(importance_type=\"gain\")"
   ]
  },
  {
   "cell_type": "code",
   "execution_count": 32,
   "metadata": {},
   "outputs": [
    {
     "data": {
      "text/html": [
       "<div>\n",
       "<style scoped>\n",
       "    .dataframe tbody tr th:only-of-type {\n",
       "        vertical-align: middle;\n",
       "    }\n",
       "\n",
       "    .dataframe tbody tr th {\n",
       "        vertical-align: top;\n",
       "    }\n",
       "\n",
       "    .dataframe thead th {\n",
       "        text-align: right;\n",
       "    }\n",
       "</style>\n",
       "<table border=\"1\" class=\"dataframe\">\n",
       "  <thead>\n",
       "    <tr style=\"text-align: right;\">\n",
       "      <th></th>\n",
       "      <th>Importance</th>\n",
       "    </tr>\n",
       "    <tr>\n",
       "      <th>Feature Name</th>\n",
       "      <th></th>\n",
       "    </tr>\n",
       "  </thead>\n",
       "  <tbody>\n",
       "    <tr>\n",
       "      <th>x75</th>\n",
       "      <td>34.724857</td>\n",
       "    </tr>\n",
       "    <tr>\n",
       "      <th>x97</th>\n",
       "      <td>32.805042</td>\n",
       "    </tr>\n",
       "    <tr>\n",
       "      <th>x37</th>\n",
       "      <td>28.269208</td>\n",
       "    </tr>\n",
       "    <tr>\n",
       "      <th>x35_thursday</th>\n",
       "      <td>24.789958</td>\n",
       "    </tr>\n",
       "    <tr>\n",
       "      <th>x58</th>\n",
       "      <td>24.267436</td>\n",
       "    </tr>\n",
       "    <tr>\n",
       "      <th>x41</th>\n",
       "      <td>23.591614</td>\n",
       "    </tr>\n",
       "    <tr>\n",
       "      <th>x53</th>\n",
       "      <td>23.122496</td>\n",
       "    </tr>\n",
       "    <tr>\n",
       "      <th>x99</th>\n",
       "      <td>21.670210</td>\n",
       "    </tr>\n",
       "    <tr>\n",
       "      <th>x66</th>\n",
       "      <td>21.234005</td>\n",
       "    </tr>\n",
       "    <tr>\n",
       "      <th>x83</th>\n",
       "      <td>18.777649</td>\n",
       "    </tr>\n",
       "    <tr>\n",
       "      <th>x51</th>\n",
       "      <td>18.483428</td>\n",
       "    </tr>\n",
       "    <tr>\n",
       "      <th>x12</th>\n",
       "      <td>16.935363</td>\n",
       "    </tr>\n",
       "    <tr>\n",
       "      <th>x44</th>\n",
       "      <td>16.617990</td>\n",
       "    </tr>\n",
       "    <tr>\n",
       "      <th>x50</th>\n",
       "      <td>16.508720</td>\n",
       "    </tr>\n",
       "    <tr>\n",
       "      <th>x1</th>\n",
       "      <td>16.345584</td>\n",
       "    </tr>\n",
       "    <tr>\n",
       "      <th>x63</th>\n",
       "      <td>16.297937</td>\n",
       "    </tr>\n",
       "    <tr>\n",
       "      <th>x40</th>\n",
       "      <td>16.162018</td>\n",
       "    </tr>\n",
       "    <tr>\n",
       "      <th>x78</th>\n",
       "      <td>15.747694</td>\n",
       "    </tr>\n",
       "    <tr>\n",
       "      <th>x21</th>\n",
       "      <td>15.613956</td>\n",
       "    </tr>\n",
       "    <tr>\n",
       "      <th>x5</th>\n",
       "      <td>15.381603</td>\n",
       "    </tr>\n",
       "    <tr>\n",
       "      <th>x3</th>\n",
       "      <td>15.074353</td>\n",
       "    </tr>\n",
       "    <tr>\n",
       "      <th>x10</th>\n",
       "      <td>14.805315</td>\n",
       "    </tr>\n",
       "    <tr>\n",
       "      <th>x96</th>\n",
       "      <td>13.945939</td>\n",
       "    </tr>\n",
       "    <tr>\n",
       "      <th>x70</th>\n",
       "      <td>13.843800</td>\n",
       "    </tr>\n",
       "    <tr>\n",
       "      <th>x2</th>\n",
       "      <td>13.234008</td>\n",
       "    </tr>\n",
       "    <tr>\n",
       "      <th>x71</th>\n",
       "      <td>13.082727</td>\n",
       "    </tr>\n",
       "    <tr>\n",
       "      <th>x45</th>\n",
       "      <td>12.516872</td>\n",
       "    </tr>\n",
       "    <tr>\n",
       "      <th>x56</th>\n",
       "      <td>11.985151</td>\n",
       "    </tr>\n",
       "    <tr>\n",
       "      <th>x19</th>\n",
       "      <td>11.566486</td>\n",
       "    </tr>\n",
       "    <tr>\n",
       "      <th>x72</th>\n",
       "      <td>11.439885</td>\n",
       "    </tr>\n",
       "    <tr>\n",
       "      <th>...</th>\n",
       "      <td>...</td>\n",
       "    </tr>\n",
       "    <tr>\n",
       "      <th>x6</th>\n",
       "      <td>1.786068</td>\n",
       "    </tr>\n",
       "    <tr>\n",
       "      <th>x89</th>\n",
       "      <td>1.749735</td>\n",
       "    </tr>\n",
       "    <tr>\n",
       "      <th>x98</th>\n",
       "      <td>1.748289</td>\n",
       "    </tr>\n",
       "    <tr>\n",
       "      <th>x91</th>\n",
       "      <td>1.741379</td>\n",
       "    </tr>\n",
       "    <tr>\n",
       "      <th>x65</th>\n",
       "      <td>1.719907</td>\n",
       "    </tr>\n",
       "    <tr>\n",
       "      <th>x81</th>\n",
       "      <td>1.716288</td>\n",
       "    </tr>\n",
       "    <tr>\n",
       "      <th>x9</th>\n",
       "      <td>1.670220</td>\n",
       "    </tr>\n",
       "    <tr>\n",
       "      <th>x46</th>\n",
       "      <td>1.648257</td>\n",
       "    </tr>\n",
       "    <tr>\n",
       "      <th>x62</th>\n",
       "      <td>1.643576</td>\n",
       "    </tr>\n",
       "    <tr>\n",
       "      <th>x31</th>\n",
       "      <td>1.638202</td>\n",
       "    </tr>\n",
       "    <tr>\n",
       "      <th>x88</th>\n",
       "      <td>1.629320</td>\n",
       "    </tr>\n",
       "    <tr>\n",
       "      <th>x87</th>\n",
       "      <td>1.565456</td>\n",
       "    </tr>\n",
       "    <tr>\n",
       "      <th>x67</th>\n",
       "      <td>1.532457</td>\n",
       "    </tr>\n",
       "    <tr>\n",
       "      <th>x14</th>\n",
       "      <td>1.532142</td>\n",
       "    </tr>\n",
       "    <tr>\n",
       "      <th>x17</th>\n",
       "      <td>1.527966</td>\n",
       "    </tr>\n",
       "    <tr>\n",
       "      <th>x52</th>\n",
       "      <td>1.520013</td>\n",
       "    </tr>\n",
       "    <tr>\n",
       "      <th>x54</th>\n",
       "      <td>1.495932</td>\n",
       "    </tr>\n",
       "    <tr>\n",
       "      <th>x36</th>\n",
       "      <td>1.477934</td>\n",
       "    </tr>\n",
       "    <tr>\n",
       "      <th>x29</th>\n",
       "      <td>1.394242</td>\n",
       "    </tr>\n",
       "    <tr>\n",
       "      <th>x13</th>\n",
       "      <td>1.390530</td>\n",
       "    </tr>\n",
       "    <tr>\n",
       "      <th>x60</th>\n",
       "      <td>1.369393</td>\n",
       "    </tr>\n",
       "    <tr>\n",
       "      <th>x34_Toyota</th>\n",
       "      <td>1.272307</td>\n",
       "    </tr>\n",
       "    <tr>\n",
       "      <th>x32</th>\n",
       "      <td>1.248057</td>\n",
       "    </tr>\n",
       "    <tr>\n",
       "      <th>x68_Dec</th>\n",
       "      <td>1.236412</td>\n",
       "    </tr>\n",
       "    <tr>\n",
       "      <th>x59</th>\n",
       "      <td>1.182015</td>\n",
       "    </tr>\n",
       "    <tr>\n",
       "      <th>x93_asia</th>\n",
       "      <td>1.165440</td>\n",
       "    </tr>\n",
       "    <tr>\n",
       "      <th>x34_Honda</th>\n",
       "      <td>1.059672</td>\n",
       "    </tr>\n",
       "    <tr>\n",
       "      <th>x35_friday</th>\n",
       "      <td>1.046746</td>\n",
       "    </tr>\n",
       "    <tr>\n",
       "      <th>x68_Mar</th>\n",
       "      <td>1.027684</td>\n",
       "    </tr>\n",
       "    <tr>\n",
       "      <th>x34_bmw</th>\n",
       "      <td>0.983792</td>\n",
       "    </tr>\n",
       "  </tbody>\n",
       "</table>\n",
       "<p>113 rows × 1 columns</p>\n",
       "</div>"
      ],
      "text/plain": [
       "              Importance\n",
       "Feature Name            \n",
       "x75            34.724857\n",
       "x97            32.805042\n",
       "x37            28.269208\n",
       "x35_thursday   24.789958\n",
       "x58            24.267436\n",
       "x41            23.591614\n",
       "x53            23.122496\n",
       "x99            21.670210\n",
       "x66            21.234005\n",
       "x83            18.777649\n",
       "x51            18.483428\n",
       "x12            16.935363\n",
       "x44            16.617990\n",
       "x50            16.508720\n",
       "x1             16.345584\n",
       "x63            16.297937\n",
       "x40            16.162018\n",
       "x78            15.747694\n",
       "x21            15.613956\n",
       "x5             15.381603\n",
       "x3             15.074353\n",
       "x10            14.805315\n",
       "x96            13.945939\n",
       "x70            13.843800\n",
       "x2             13.234008\n",
       "x71            13.082727\n",
       "x45            12.516872\n",
       "x56            11.985151\n",
       "x19            11.566486\n",
       "x72            11.439885\n",
       "...                  ...\n",
       "x6              1.786068\n",
       "x89             1.749735\n",
       "x98             1.748289\n",
       "x91             1.741379\n",
       "x65             1.719907\n",
       "x81             1.716288\n",
       "x9              1.670220\n",
       "x46             1.648257\n",
       "x62             1.643576\n",
       "x31             1.638202\n",
       "x88             1.629320\n",
       "x87             1.565456\n",
       "x67             1.532457\n",
       "x14             1.532142\n",
       "x17             1.527966\n",
       "x52             1.520013\n",
       "x54             1.495932\n",
       "x36             1.477934\n",
       "x29             1.394242\n",
       "x13             1.390530\n",
       "x60             1.369393\n",
       "x34_Toyota      1.272307\n",
       "x32             1.248057\n",
       "x68_Dec         1.236412\n",
       "x59             1.182015\n",
       "x93_asia        1.165440\n",
       "x34_Honda       1.059672\n",
       "x35_friday      1.046746\n",
       "x68_Mar         1.027684\n",
       "x34_bmw         0.983792\n",
       "\n",
       "[113 rows x 1 columns]"
      ]
     },
     "execution_count": 32,
     "metadata": {},
     "output_type": "execute_result"
    }
   ],
   "source": [
    "dframe = pd.DataFrame([columns])\n",
    "dframe = dframe.T\n",
    "dframe.index.names = ['Feature Name']\n",
    "dframe.columns = ['Importance']\n",
    "dframe.sort_values(['Importance'],ascending = False)"
   ]
  },
  {
   "cell_type": "code",
   "execution_count": 37,
   "metadata": {},
   "outputs": [
    {
     "name": "stdout",
     "output_type": "stream",
     "text": [
      "Thresh=0.000, n=126, Accuracy: 97.90%\n",
      "Thresh=0.000, n=126, Accuracy: 97.90%\n",
      "Thresh=0.000, n=126, Accuracy: 97.90%\n",
      "Thresh=0.000, n=126, Accuracy: 97.90%\n",
      "Thresh=0.000, n=126, Accuracy: 97.90%\n",
      "Thresh=0.000, n=126, Accuracy: 97.90%\n",
      "Thresh=0.000, n=126, Accuracy: 97.90%\n",
      "Thresh=0.000, n=126, Accuracy: 97.90%\n",
      "Thresh=0.000, n=126, Accuracy: 97.90%\n",
      "Thresh=0.000, n=126, Accuracy: 97.90%\n",
      "Thresh=0.000, n=126, Accuracy: 97.90%\n",
      "Thresh=0.000, n=126, Accuracy: 97.90%\n",
      "Thresh=0.000, n=126, Accuracy: 97.90%\n",
      "Thresh=0.001, n=113, Accuracy: 97.91%\n",
      "Thresh=0.001, n=112, Accuracy: 97.85%\n",
      "Thresh=0.001, n=111, Accuracy: 97.90%\n",
      "Thresh=0.001, n=110, Accuracy: 97.90%\n",
      "Thresh=0.001, n=109, Accuracy: 97.81%\n",
      "Thresh=0.001, n=108, Accuracy: 97.72%\n",
      "Thresh=0.001, n=107, Accuracy: 98.05%\n",
      "Thresh=0.001, n=106, Accuracy: 98.05%\n",
      "Thresh=0.001, n=105, Accuracy: 97.84%\n",
      "Thresh=0.002, n=104, Accuracy: 97.90%\n",
      "Thresh=0.002, n=103, Accuracy: 97.86%\n",
      "Thresh=0.002, n=102, Accuracy: 97.90%\n",
      "Thresh=0.002, n=101, Accuracy: 97.87%\n",
      "Thresh=0.002, n=100, Accuracy: 97.85%\n",
      "Thresh=0.002, n=99, Accuracy: 97.96%\n",
      "Thresh=0.002, n=98, Accuracy: 97.90%\n",
      "Thresh=0.002, n=97, Accuracy: 98.07%\n",
      "Thresh=0.002, n=96, Accuracy: 97.91%\n",
      "Thresh=0.002, n=95, Accuracy: 97.79%\n",
      "Thresh=0.002, n=94, Accuracy: 97.82%\n",
      "Thresh=0.002, n=93, Accuracy: 97.77%\n",
      "Thresh=0.002, n=92, Accuracy: 97.85%\n",
      "Thresh=0.002, n=91, Accuracy: 97.81%\n",
      "Thresh=0.002, n=90, Accuracy: 97.87%\n",
      "Thresh=0.002, n=89, Accuracy: 97.81%\n",
      "Thresh=0.002, n=88, Accuracy: 97.86%\n",
      "Thresh=0.002, n=87, Accuracy: 98.00%\n",
      "Thresh=0.002, n=86, Accuracy: 97.94%\n",
      "Thresh=0.002, n=85, Accuracy: 97.97%\n",
      "Thresh=0.002, n=84, Accuracy: 97.89%\n",
      "Thresh=0.002, n=83, Accuracy: 98.00%\n",
      "Thresh=0.002, n=82, Accuracy: 97.95%\n",
      "Thresh=0.002, n=81, Accuracy: 97.97%\n",
      "Thresh=0.002, n=80, Accuracy: 97.85%\n",
      "Thresh=0.002, n=79, Accuracy: 97.96%\n",
      "Thresh=0.002, n=78, Accuracy: 97.84%\n",
      "Thresh=0.002, n=77, Accuracy: 97.85%\n",
      "Thresh=0.002, n=76, Accuracy: 98.01%\n",
      "Thresh=0.002, n=75, Accuracy: 98.05%\n",
      "Thresh=0.002, n=74, Accuracy: 97.99%\n",
      "Thresh=0.002, n=73, Accuracy: 97.94%\n",
      "Thresh=0.002, n=72, Accuracy: 98.11%\n",
      "Thresh=0.002, n=71, Accuracy: 98.12%\n",
      "Thresh=0.002, n=70, Accuracy: 98.04%\n",
      "Thresh=0.002, n=69, Accuracy: 98.05%\n",
      "Thresh=0.002, n=68, Accuracy: 98.12%\n",
      "Thresh=0.003, n=67, Accuracy: 97.99%\n",
      "Thresh=0.003, n=66, Accuracy: 97.97%\n",
      "Thresh=0.003, n=65, Accuracy: 98.00%\n",
      "Thresh=0.003, n=64, Accuracy: 97.97%\n",
      "Thresh=0.003, n=63, Accuracy: 98.19%\n",
      "Thresh=0.003, n=62, Accuracy: 98.05%\n",
      "Thresh=0.003, n=61, Accuracy: 98.12%\n",
      "Thresh=0.003, n=60, Accuracy: 98.15%\n",
      "Thresh=0.003, n=59, Accuracy: 98.12%\n",
      "Thresh=0.006, n=58, Accuracy: 98.25%\n",
      "Thresh=0.006, n=57, Accuracy: 97.95%\n",
      "Thresh=0.006, n=56, Accuracy: 98.19%\n",
      "Thresh=0.006, n=55, Accuracy: 98.02%\n",
      "Thresh=0.007, n=54, Accuracy: 98.02%\n",
      "Thresh=0.007, n=53, Accuracy: 97.92%\n",
      "Thresh=0.007, n=52, Accuracy: 98.00%\n",
      "Thresh=0.008, n=51, Accuracy: 98.01%\n",
      "Thresh=0.008, n=50, Accuracy: 97.94%\n",
      "Thresh=0.008, n=49, Accuracy: 97.94%\n",
      "Thresh=0.009, n=48, Accuracy: 97.72%\n",
      "Thresh=0.009, n=47, Accuracy: 97.59%\n",
      "Thresh=0.009, n=46, Accuracy: 97.61%\n",
      "Thresh=0.010, n=45, Accuracy: 97.64%\n",
      "Thresh=0.010, n=44, Accuracy: 97.54%\n",
      "Thresh=0.010, n=43, Accuracy: 97.34%\n",
      "Thresh=0.010, n=42, Accuracy: 97.56%\n",
      "Thresh=0.010, n=41, Accuracy: 97.42%\n",
      "Thresh=0.010, n=40, Accuracy: 97.32%\n",
      "Thresh=0.011, n=39, Accuracy: 96.94%\n",
      "Thresh=0.011, n=38, Accuracy: 96.86%\n",
      "Thresh=0.011, n=37, Accuracy: 96.81%\n",
      "Thresh=0.012, n=36, Accuracy: 96.57%\n",
      "Thresh=0.012, n=35, Accuracy: 96.44%\n",
      "Thresh=0.012, n=34, Accuracy: 96.37%\n",
      "Thresh=0.013, n=33, Accuracy: 96.44%\n",
      "Thresh=0.013, n=32, Accuracy: 95.92%\n",
      "Thresh=0.013, n=31, Accuracy: 95.85%\n",
      "Thresh=0.013, n=30, Accuracy: 95.79%\n",
      "Thresh=0.013, n=29, Accuracy: 95.55%\n",
      "Thresh=0.014, n=28, Accuracy: 95.46%\n",
      "Thresh=0.014, n=27, Accuracy: 95.12%\n",
      "Thresh=0.015, n=26, Accuracy: 94.82%\n",
      "Thresh=0.015, n=25, Accuracy: 94.89%\n",
      "Thresh=0.016, n=24, Accuracy: 94.59%\n",
      "Thresh=0.016, n=23, Accuracy: 94.25%\n",
      "Thresh=0.017, n=22, Accuracy: 94.01%\n",
      "Thresh=0.017, n=21, Accuracy: 93.71%\n",
      "Thresh=0.017, n=20, Accuracy: 93.57%\n",
      "Thresh=0.018, n=19, Accuracy: 92.95%\n",
      "Thresh=0.018, n=18, Accuracy: 92.26%\n",
      "Thresh=0.018, n=17, Accuracy: 91.76%\n",
      "Thresh=0.019, n=16, Accuracy: 91.07%\n",
      "Thresh=0.019, n=15, Accuracy: 90.44%\n",
      "Thresh=0.019, n=14, Accuracy: 89.46%\n",
      "Thresh=0.019, n=13, Accuracy: 88.65%\n",
      "Thresh=0.019, n=12, Accuracy: 88.00%\n",
      "Thresh=0.021, n=11, Accuracy: 86.91%\n",
      "Thresh=0.021, n=10, Accuracy: 86.22%\n",
      "Thresh=0.024, n=9, Accuracy: 85.05%\n",
      "Thresh=0.025, n=8, Accuracy: 83.59%\n",
      "Thresh=0.026, n=7, Accuracy: 82.34%\n",
      "Thresh=0.027, n=6, Accuracy: 80.84%\n",
      "Thresh=0.028, n=5, Accuracy: 80.04%\n",
      "Thresh=0.028, n=4, Accuracy: 79.58%\n",
      "Thresh=0.032, n=3, Accuracy: 79.42%\n",
      "Thresh=0.037, n=2, Accuracy: 79.10%\n",
      "Thresh=0.039, n=1, Accuracy: 79.50%\n"
     ]
    }
   ],
   "source": [
    "from numpy import sort\n",
    "from sklearn.feature_selection import SelectFromModel\n",
    "\n",
    "thresholds = sort(model.feature_importances_)\n",
    "for thresh in thresholds:\n",
    "    # select features using threshold\n",
    "    selection = SelectFromModel(model, threshold=thresh, prefit=True)\n",
    "    select_X_train = selection.transform(X_train)\n",
    "    # train model\n",
    "    selection_model = XGBClassifier(booster='gbtree',objective = 'binary:logistic',max_depth = 7,\n",
    "                          min_child_weight = 1,n_estimators = 500,seed = 1,n_jobs = 12,\n",
    "                          learning_rate = 0.1)\n",
    "    selection_model.fit(select_X_train, y_train)\n",
    "    # eval model\n",
    "    select_X_test = selection.transform(X_test)\n",
    "    y_pred = selection_model.predict(select_X_test)\n",
    "    predictions = [round(value) for value in y_pred]\n",
    "    accuracy = accuracy_score(y_test, predictions)\n",
    "    print(\"Thresh=%.3f, n=%d, Accuracy: %.2f%%\" % (thresh, select_X_train.shape[1], accuracy*100.0))"
   ]
  },
  {
   "cell_type": "markdown",
   "metadata": {},
   "source": [
    "### This shows that only a few features (<30) are really being used in the trees, and we can probably reduce the required dataset for this model considerably."
   ]
  },
  {
   "cell_type": "code",
   "execution_count": null,
   "metadata": {},
   "outputs": [],
   "source": []
  },
  {
   "cell_type": "markdown",
   "metadata": {},
   "source": [
    "## Finally, pre-proccess the test set, and calculate the final prediction"
   ]
  },
  {
   "cell_type": "code",
   "execution_count": 33,
   "metadata": {},
   "outputs": [],
   "source": [
    "test = pd.read_csv(\"exercise_02_test.csv\")"
   ]
  },
  {
   "cell_type": "code",
   "execution_count": 34,
   "metadata": {},
   "outputs": [
    {
     "data": {
      "text/plain": [
       "10000"
      ]
     },
     "execution_count": 34,
     "metadata": {},
     "output_type": "execute_result"
    }
   ],
   "source": [
    "len(test.index)"
   ]
  },
  {
   "cell_type": "code",
   "execution_count": 35,
   "metadata": {},
   "outputs": [],
   "source": [
    "predictCols = list(test)\n",
    "for col in predictCols:\n",
    "    if test[col].dtype in [np.float64,np.int64]:\n",
    "        test[col].fillna(test[col].mean(skipna = True), inplace=True)"
   ]
  },
  {
   "cell_type": "code",
   "execution_count": 36,
   "metadata": {},
   "outputs": [
    {
     "name": "stdout",
     "output_type": "stream",
     "text": [
      "bmw\n",
      "Toyota\n",
      "volkswagon\n",
      "tesla\n",
      "ford\n",
      "nan\n",
      "Honda\n",
      "chrystler\n",
      "mercades\n",
      "chevrolet\n",
      "nissan\n"
     ]
    },
    {
     "data": {
      "text/plain": [
       "True"
      ]
     },
     "execution_count": 36,
     "metadata": {},
     "output_type": "execute_result"
    }
   ],
   "source": [
    "# Ensure all values in test.34 are in train.34 - i.e. no alternate spellings\n",
    "any(elem in unique(test.x34,True)  for elem in uniqueX34_train)"
   ]
  },
  {
   "cell_type": "code",
   "execution_count": 37,
   "metadata": {},
   "outputs": [],
   "source": [
    "# Output is true, so all values in test.X34 are a subset of train.x34"
   ]
  },
  {
   "cell_type": "code",
   "execution_count": 38,
   "metadata": {},
   "outputs": [
    {
     "name": "stdout",
     "output_type": "stream",
     "text": [
      "tuesday\n",
      "fri\n",
      "wed\n",
      "monday\n",
      "thurday\n",
      "friday\n",
      "wednesday\n",
      "thur\n"
     ]
    }
   ],
   "source": [
    "unique(test.x35)\n",
    "\n",
    "test.x35.replace(['thurday', 'thur'], ['thursday','thursday'], inplace=True)\n",
    "test.x35.replace(['wed'], ['wednesday'], inplace=True)\n",
    "test.x35.replace(['fri'], ['friday'], inplace=True)\n",
    "test.x35.fillna(test.x35.mode()[0], inplace=True)"
   ]
  },
  {
   "cell_type": "code",
   "execution_count": 39,
   "metadata": {},
   "outputs": [],
   "source": [
    "# Convert currency column to float, remove nan's\n",
    "test['x41'] = test['x41'].astype(str)\n",
    "test['x41'] = test['x41'].map(lambda x: x.lstrip('$'))\n",
    "test['x41'] = test['x41'].astype(np.float16)\n",
    "test['x41'].fillna(0, inplace=True) # probably safer to replace nan's with 0, not mean"
   ]
  },
  {
   "cell_type": "code",
   "execution_count": 40,
   "metadata": {},
   "outputs": [],
   "source": [
    "# Convert percentage column to float, remove nan's\n",
    "test['x45'] = test['x45'].astype(str)\n",
    "test['x45'] = test['x45'].map(lambda x: x.rstrip('%'))\n",
    "test['x45'] = test['x45'].astype(np.float16)\n",
    "test['x45'].fillna(train['x45'].mean(skipna = True), inplace=True) # since very few unique values, ok to replace with mean"
   ]
  },
  {
   "cell_type": "code",
   "execution_count": 41,
   "metadata": {},
   "outputs": [
    {
     "name": "stdout",
     "output_type": "stream",
     "text": [
      "nan\n",
      "Jun\n",
      "May\n",
      "Feb\n",
      "Aug\n",
      "sept.\n",
      "Oct\n",
      "Mar\n",
      "Dev\n",
      "January\n",
      "July\n",
      "Nov\n",
      "Apr\n"
     ]
    }
   ],
   "source": [
    "unique(test.x68)\n",
    "\n",
    "# Month Column\n",
    "test.x68.replace(['Dev'], ['Dec'], inplace=True) # because I'm OCD\n",
    "test.x68.replace(['sept.'], ['Sep'], inplace=True)\n",
    "test.x68.replace(['January'], ['Jan'], inplace=True)\n",
    "test.x68.replace(['July'], ['Jul'], inplace=True)\n",
    "test.x68.fillna(test.x68.mode()[0], inplace=True)"
   ]
  },
  {
   "cell_type": "code",
   "execution_count": 43,
   "metadata": {},
   "outputs": [
    {
     "name": "stdout",
     "output_type": "stream",
     "text": [
      "0\n"
     ]
    }
   ],
   "source": [
    "# Region\n",
    "test.x93.replace(['euorpe'], ['europe'], inplace=True)\n",
    "test.x93.fillna(test.x93.mode()[0], inplace=True)\n",
    "print(test['x93'].isna().sum())"
   ]
  },
  {
   "cell_type": "code",
   "execution_count": 44,
   "metadata": {},
   "outputs": [],
   "source": [
    "test = pd.get_dummies(test)"
   ]
  },
  {
   "cell_type": "code",
   "execution_count": 45,
   "metadata": {},
   "outputs": [
    {
     "data": {
      "text/plain": [
       "True"
      ]
     },
     "execution_count": 45,
     "metadata": {},
     "output_type": "execute_result"
    }
   ],
   "source": [
    "# Ensure all columns in test are also in train after the one-hot encoding\n",
    "any(elem in list(test)  for elem in list(train))"
   ]
  },
  {
   "cell_type": "markdown",
   "metadata": {},
   "source": [
    "## Now retrain the model with the final hyperparameters using the full training set"
   ]
  },
  {
   "cell_type": "code",
   "execution_count": 46,
   "metadata": {},
   "outputs": [
    {
     "data": {
      "text/plain": [
       "XGBClassifier(base_score=0.5, booster='gbtree', colsample_bylevel=1,\n",
       "       colsample_bynode=1, colsample_bytree=1, gamma=0, learning_rate=0.1,\n",
       "       max_delta_step=0, max_depth=7, min_child_weight=1, missing=None,\n",
       "       n_estimators=500, n_jobs=12, nthread=None,\n",
       "       objective='binary:logistic', random_state=0, reg_alpha=0,\n",
       "       reg_lambda=1, scale_pos_weight=1, seed=1, silent=None, subsample=1,\n",
       "       verbosity=1)"
      ]
     },
     "execution_count": 46,
     "metadata": {},
     "output_type": "execute_result"
    }
   ],
   "source": [
    "# First XGboost attempt, leaving most parameters as default\n",
    "model = xgb.XGBClassifier(booster='gbtree',objective = 'binary:logistic',max_depth = 7,\n",
    "                          min_child_weight = 1,n_estimators = 500,seed = 1,n_jobs = 12,\n",
    "                          learning_rate = 0.1)\n",
    "\n",
    "model.fit(train,y)"
   ]
  },
  {
   "cell_type": "markdown",
   "metadata": {},
   "source": [
    "## Now generate the final test output"
   ]
  },
  {
   "cell_type": "code",
   "execution_count": 48,
   "metadata": {},
   "outputs": [],
   "source": [
    "final_y = model.predict_proba(test) # return class probabilities"
   ]
  },
  {
   "cell_type": "code",
   "execution_count": 49,
   "metadata": {},
   "outputs": [],
   "source": [
    "final_y = final_y[:,1] # return only the probability of the 1's class"
   ]
  },
  {
   "cell_type": "code",
   "execution_count": 50,
   "metadata": {},
   "outputs": [],
   "source": [
    "np.savetxt(\"results1.csv\", final_y, delimiter = \",\")"
   ]
  }
 ],
 "metadata": {
  "kernelspec": {
   "display_name": "Python 3",
   "language": "python",
   "name": "python3"
  },
  "language_info": {
   "codemirror_mode": {
    "name": "ipython",
    "version": 3
   },
   "file_extension": ".py",
   "mimetype": "text/x-python",
   "name": "python",
   "nbconvert_exporter": "python",
   "pygments_lexer": "ipython3",
   "version": "3.7.1"
  }
 },
 "nbformat": 4,
 "nbformat_minor": 2
}
